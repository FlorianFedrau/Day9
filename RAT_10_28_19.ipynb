{
 "cells": [
  {
   "cell_type": "markdown",
   "metadata": {},
   "source": [
    "## What does linear regression do?"
   ]
  },
  {
   "cell_type": "markdown",
   "metadata": {},
   "source": [
    "    Linear regression basicly is in the form y = m*x + b in a two dimension field. \n",
    "    It describes the relationship between y and x. b is an error that is unique for every single point \n",
    "    of our data. What we want to do with it is make a prediction for future datapoints. "
   ]
  },
  {
   "cell_type": "markdown",
   "metadata": {},
   "source": [
    "## What is multiple regression?"
   ]
  },
  {
   "cell_type": "markdown",
   "metadata": {},
   "source": [
    "    It's similar to linear regression but this time we have an n-dimensional field. So it is in the form\n",
    "    y = m_1*x_1+ m_2*x_2 + .... + m_n*x_n + b\n",
    "    So it shows the relationship between multiple variables of our data. So we can make prediction for future \n",
    "    datapoints"
   ]
  },
  {
   "cell_type": "code",
   "execution_count": null,
   "metadata": {},
   "outputs": [],
   "source": []
  }
 ],
 "metadata": {
  "kernelspec": {
   "display_name": "Python [conda env:nf] *",
   "language": "python",
   "name": "conda-env-nf-py"
  },
  "language_info": {
   "codemirror_mode": {
    "name": "ipython",
    "version": 3
   },
   "file_extension": ".py",
   "mimetype": "text/x-python",
   "name": "python",
   "nbconvert_exporter": "python",
   "pygments_lexer": "ipython3",
   "version": "3.6.6"
  }
 },
 "nbformat": 4,
 "nbformat_minor": 2
}
